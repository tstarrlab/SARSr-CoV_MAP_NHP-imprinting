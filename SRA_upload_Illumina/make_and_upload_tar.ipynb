{
 "cells": [
  {
   "cell_type": "markdown",
   "metadata": {},
   "source": [
    "# Create TAR file of FASTQs and upload to SRA\n",
    "This Python Jupyter notebook creates a `*.tar` file of the FASTQs and uploads them to the SRA.\n",
    "\n",
    "First, import Python modules:"
   ]
  },
  {
   "cell_type": "code",
   "execution_count": 1,
   "metadata": {
    "execution": {
     "iopub.execute_input": "2025-01-27T23:18:25.668654Z",
     "iopub.status.busy": "2025-01-27T23:18:25.668261Z",
     "iopub.status.idle": "2025-01-27T23:18:26.195422Z",
     "shell.execute_reply": "2025-01-27T23:18:26.194839Z"
    }
   },
   "outputs": [],
   "source": [
    "import datetime\n",
    "import ftplib\n",
    "import os\n",
    "import tarfile\n",
    "\n",
    "import pandas as pd\n",
    "\n",
    "import yaml"
   ]
  },
  {
   "cell_type": "markdown",
   "metadata": {},
   "source": [
    "Read in the FASTQ files to upload:"
   ]
  },
  {
   "cell_type": "code",
   "execution_count": 2,
   "metadata": {
    "execution": {
     "iopub.execute_input": "2025-01-27T23:18:26.197741Z",
     "iopub.status.busy": "2025-01-27T23:18:26.197233Z",
     "iopub.status.idle": "2025-01-27T23:18:26.203738Z",
     "shell.execute_reply": "2025-01-27T23:18:26.203284Z"
    }
   },
   "outputs": [],
   "source": [
    "with open('upload_config.yaml') as f:\n",
    "    config = yaml.safe_load(f)\n",
    "    \n",
    "fastqs = pd.read_csv('FASTQs_to_upload.csv')"
   ]
  },
  {
   "cell_type": "markdown",
   "metadata": {},
   "source": [
    "Now we need to make a `*.tar` file with all of the files.\n",
    "Note that this step **will take a long time to run**."
   ]
  },
  {
   "cell_type": "code",
   "execution_count": 3,
   "metadata": {
    "execution": {
     "iopub.execute_input": "2025-01-27T23:18:26.205626Z",
     "iopub.status.busy": "2025-01-27T23:18:26.205284Z",
     "iopub.status.idle": "2025-01-27T23:19:02.324232Z",
     "shell.execute_reply": "2025-01-27T23:19:02.323580Z"
    }
   },
   "outputs": [
    {
     "name": "stdout",
     "output_type": "stream",
     "text": [
      "Adding file 1 of 148 to SRA_submission.tar\n",
      "Adding file 2 of 148 to SRA_submission.tar\n",
      "Adding file 3 of 148 to SRA_submission.tar\n",
      "Adding file 4 of 148 to SRA_submission.tar\n",
      "Adding file 5 of 148 to SRA_submission.tar\n",
      "Adding file 6 of 148 to SRA_submission.tar\n",
      "Adding file 7 of 148 to SRA_submission.tar\n",
      "Adding file 8 of 148 to SRA_submission.tar\n",
      "Adding file 9 of 148 to SRA_submission.tar\n",
      "Adding file 10 of 148 to SRA_submission.tar\n",
      "Adding file 11 of 148 to SRA_submission.tar\n",
      "Adding file 12 of 148 to SRA_submission.tar\n",
      "Adding file 13 of 148 to SRA_submission.tar\n",
      "Adding file 14 of 148 to SRA_submission.tar\n",
      "Adding file 15 of 148 to SRA_submission.tar\n",
      "Adding file 16 of 148 to SRA_submission.tar\n",
      "Adding file 17 of 148 to SRA_submission.tar\n",
      "Adding file 18 of 148 to SRA_submission.tar\n",
      "Adding file 19 of 148 to SRA_submission.tar\n",
      "Adding file 20 of 148 to SRA_submission.tar\n",
      "Adding file 21 of 148 to SRA_submission.tar\n",
      "Adding file 22 of 148 to SRA_submission.tar\n",
      "Adding file 23 of 148 to SRA_submission.tar\n",
      "Adding file 24 of 148 to SRA_submission.tar\n",
      "Adding file 25 of 148 to SRA_submission.tar\n",
      "Adding file 26 of 148 to SRA_submission.tar\n",
      "Adding file 27 of 148 to SRA_submission.tar\n",
      "Adding file 28 of 148 to SRA_submission.tar\n",
      "Adding file 29 of 148 to SRA_submission.tar\n",
      "Adding file 30 of 148 to SRA_submission.tar\n",
      "Adding file 31 of 148 to SRA_submission.tar\n",
      "Adding file 32 of 148 to SRA_submission.tar\n",
      "Adding file 33 of 148 to SRA_submission.tar\n",
      "Adding file 34 of 148 to SRA_submission.tar\n",
      "Adding file 35 of 148 to SRA_submission.tar\n",
      "Adding file 36 of 148 to SRA_submission.tar\n",
      "Adding file 37 of 148 to SRA_submission.tar\n",
      "Adding file 38 of 148 to SRA_submission.tar\n",
      "Adding file 39 of 148 to SRA_submission.tar\n",
      "Adding file 40 of 148 to SRA_submission.tar\n",
      "Adding file 41 of 148 to SRA_submission.tar\n",
      "Adding file 42 of 148 to SRA_submission.tar\n",
      "Adding file 43 of 148 to SRA_submission.tar\n",
      "Adding file 44 of 148 to SRA_submission.tar\n",
      "Adding file 45 of 148 to SRA_submission.tar\n",
      "Adding file 46 of 148 to SRA_submission.tar\n",
      "Adding file 47 of 148 to SRA_submission.tar\n",
      "Adding file 48 of 148 to SRA_submission.tar\n",
      "Adding file 49 of 148 to SRA_submission.tar\n",
      "Adding file 50 of 148 to SRA_submission.tar\n",
      "Adding file 51 of 148 to SRA_submission.tar\n",
      "Adding file 52 of 148 to SRA_submission.tar\n",
      "Adding file 53 of 148 to SRA_submission.tar\n",
      "Adding file 54 of 148 to SRA_submission.tar\n",
      "Adding file 55 of 148 to SRA_submission.tar\n",
      "Adding file 56 of 148 to SRA_submission.tar\n",
      "Adding file 57 of 148 to SRA_submission.tar\n",
      "Adding file 58 of 148 to SRA_submission.tar\n",
      "Adding file 59 of 148 to SRA_submission.tar\n",
      "Adding file 60 of 148 to SRA_submission.tar\n",
      "Adding file 61 of 148 to SRA_submission.tar\n",
      "Adding file 62 of 148 to SRA_submission.tar\n",
      "Adding file 63 of 148 to SRA_submission.tar\n",
      "Adding file 64 of 148 to SRA_submission.tar\n",
      "Adding file 65 of 148 to SRA_submission.tar\n",
      "Adding file 66 of 148 to SRA_submission.tar\n",
      "Adding file 67 of 148 to SRA_submission.tar\n",
      "Adding file 68 of 148 to SRA_submission.tar\n",
      "Adding file 69 of 148 to SRA_submission.tar\n",
      "Adding file 70 of 148 to SRA_submission.tar\n",
      "Adding file 71 of 148 to SRA_submission.tar\n",
      "Adding file 72 of 148 to SRA_submission.tar\n",
      "Adding file 73 of 148 to SRA_submission.tar\n",
      "Adding file 74 of 148 to SRA_submission.tar\n",
      "Adding file 75 of 148 to SRA_submission.tar\n",
      "Adding file 76 of 148 to SRA_submission.tar\n",
      "Adding file 77 of 148 to SRA_submission.tar\n",
      "Adding file 78 of 148 to SRA_submission.tar\n",
      "Adding file 79 of 148 to SRA_submission.tar\n",
      "Adding file 80 of 148 to SRA_submission.tar\n",
      "Adding file 81 of 148 to SRA_submission.tar\n",
      "Adding file 82 of 148 to SRA_submission.tar\n",
      "Adding file 83 of 148 to SRA_submission.tar\n",
      "Adding file 84 of 148 to SRA_submission.tar\n",
      "Adding file 85 of 148 to SRA_submission.tar\n",
      "Adding file 86 of 148 to SRA_submission.tar\n",
      "Adding file 87 of 148 to SRA_submission.tar\n",
      "Adding file 88 of 148 to SRA_submission.tar\n",
      "Adding file 89 of 148 to SRA_submission.tar\n",
      "Adding file 90 of 148 to SRA_submission.tar\n",
      "Adding file 91 of 148 to SRA_submission.tar\n",
      "Adding file 92 of 148 to SRA_submission.tar\n",
      "Adding file 93 of 148 to SRA_submission.tar\n",
      "Adding file 94 of 148 to SRA_submission.tar\n",
      "Adding file 95 of 148 to SRA_submission.tar\n",
      "Adding file 96 of 148 to SRA_submission.tar\n",
      "Adding file 97 of 148 to SRA_submission.tar\n",
      "Adding file 98 of 148 to SRA_submission.tar\n",
      "Adding file 99 of 148 to SRA_submission.tar\n",
      "Adding file 100 of 148 to SRA_submission.tar\n",
      "Adding file 101 of 148 to SRA_submission.tar\n",
      "Adding file 102 of 148 to SRA_submission.tar\n",
      "Adding file 103 of 148 to SRA_submission.tar\n",
      "Adding file 104 of 148 to SRA_submission.tar\n",
      "Adding file 105 of 148 to SRA_submission.tar\n",
      "Adding file 106 of 148 to SRA_submission.tar\n",
      "Adding file 107 of 148 to SRA_submission.tar\n",
      "Adding file 108 of 148 to SRA_submission.tar\n",
      "Adding file 109 of 148 to SRA_submission.tar\n",
      "Adding file 110 of 148 to SRA_submission.tar\n",
      "Adding file 111 of 148 to SRA_submission.tar\n",
      "Adding file 112 of 148 to SRA_submission.tar\n",
      "Adding file 113 of 148 to SRA_submission.tar\n",
      "Adding file 114 of 148 to SRA_submission.tar\n",
      "Adding file 115 of 148 to SRA_submission.tar\n",
      "Adding file 116 of 148 to SRA_submission.tar\n",
      "Adding file 117 of 148 to SRA_submission.tar\n",
      "Adding file 118 of 148 to SRA_submission.tar\n",
      "Adding file 119 of 148 to SRA_submission.tar\n",
      "Adding file 120 of 148 to SRA_submission.tar\n",
      "Adding file 121 of 148 to SRA_submission.tar\n",
      "Adding file 122 of 148 to SRA_submission.tar\n",
      "Adding file 123 of 148 to SRA_submission.tar\n",
      "Adding file 124 of 148 to SRA_submission.tar\n",
      "Adding file 125 of 148 to SRA_submission.tar\n",
      "Adding file 126 of 148 to SRA_submission.tar\n",
      "Adding file 127 of 148 to SRA_submission.tar\n",
      "Adding file 128 of 148 to SRA_submission.tar\n",
      "Adding file 129 of 148 to SRA_submission.tar\n",
      "Adding file 130 of 148 to SRA_submission.tar\n",
      "Adding file 131 of 148 to SRA_submission.tar\n",
      "Adding file 132 of 148 to SRA_submission.tar\n",
      "Adding file 133 of 148 to SRA_submission.tar\n",
      "Adding file 134 of 148 to SRA_submission.tar\n",
      "Adding file 135 of 148 to SRA_submission.tar\n",
      "Adding file 136 of 148 to SRA_submission.tar\n",
      "Adding file 137 of 148 to SRA_submission.tar\n",
      "Adding file 138 of 148 to SRA_submission.tar\n",
      "Adding file 139 of 148 to SRA_submission.tar\n",
      "Adding file 140 of 148 to SRA_submission.tar\n",
      "Adding file 141 of 148 to SRA_submission.tar\n",
      "Adding file 142 of 148 to SRA_submission.tar\n",
      "Adding file 143 of 148 to SRA_submission.tar\n",
      "Adding file 144 of 148 to SRA_submission.tar\n",
      "Adding file 145 of 148 to SRA_submission.tar\n",
      "Adding file 146 of 148 to SRA_submission.tar\n",
      "Adding file 147 of 148 to SRA_submission.tar\n",
      "Adding file 148 of 148 to SRA_submission.tar\n",
      "Added all files to SRA_submission.tar\n"
     ]
    }
   ],
   "source": [
    "tar_filename = 'SRA_submission.tar'\n",
    "\n",
    "try:\n",
    "    with tarfile.open(tar_filename, mode='w') as f:\n",
    "        for i, tup in enumerate(fastqs.itertuples()):\n",
    "            print(f\"Adding file {i + 1} of {len(fastqs)} to {tar_filename}\")\n",
    "            f.add(tup.filename_fullpath, arcname=tup.filename)\n",
    "        print(f\"Added all files to {tar_filename}\")\n",
    "except:\n",
    "    if os.path.isfile(tar_filename):\n",
    "        os.remove(tar_filename)\n",
    "    raise"
   ]
  },
  {
   "cell_type": "markdown",
   "metadata": {},
   "source": [
    "See the size of the `*.tar` file to upload and make sure it has the expected files:"
   ]
  },
  {
   "cell_type": "code",
   "execution_count": 4,
   "metadata": {
    "execution": {
     "iopub.execute_input": "2025-01-27T23:19:02.326513Z",
     "iopub.status.busy": "2025-01-27T23:19:02.326074Z",
     "iopub.status.idle": "2025-01-27T23:19:03.704185Z",
     "shell.execute_reply": "2025-01-27T23:19:03.703575Z"
    }
   },
   "outputs": [
    {
     "name": "stdout",
     "output_type": "stream",
     "text": [
      "The size of SRA_submission.tar is 14.3 GB\n",
      "SRA_submission.tar contains all 148 expected files.\n"
     ]
    }
   ],
   "source": [
    "print(f\"The size of {tar_filename} is {os.path.getsize(tar_filename) / 1e9:.1f} GB\")\n",
    "\n",
    "with tarfile.open(tar_filename) as f:\n",
    "    files_in_tar = set(f.getnames())\n",
    "if files_in_tar == set(fastqs['filename']):\n",
    "    print(f\"{tar_filename} contains all {len(files_in_tar)} expected files.\")\n",
    "else:\n",
    "    raise ValueError(f\"{tar_filename} does not have all the expected files.\")"
   ]
  },
  {
   "cell_type": "markdown",
   "metadata": {},
   "source": [
    "We now read in the details about doing the FTP upload to the SRA.\n",
    "Note that these are set in separate files already:"
   ]
  },
  {
   "cell_type": "code",
   "execution_count": 5,
   "metadata": {
    "execution": {
     "iopub.execute_input": "2025-01-27T23:19:03.706274Z",
     "iopub.status.busy": "2025-01-27T23:19:03.705821Z",
     "iopub.status.idle": "2025-01-27T23:19:03.709853Z",
     "shell.execute_reply": "2025-01-27T23:19:03.709410Z"
    }
   },
   "outputs": [],
   "source": [
    "# the following are provided by SRA wizard insturctions\n",
    "ftp_address = 'ftp-private.ncbi.nlm.nih.gov'\n",
    "ftp_username = config['ftp_username'].strip()\n",
    "ftp_account_folder = config['ftp_account_folder'].strip()\n",
    "ftp_subfolder = config['ftp_subfolder'].strip()\n",
    "with open('ftp_password.txt') as f:\n",
    "    ftp_password = f.read().strip()"
   ]
  },
  {
   "cell_type": "markdown",
   "metadata": {},
   "source": [
    "Now create FTP connection and upload the TAR file.\n",
    "Note that this takes a while.\n",
    "If you are worried that it will timeout given the size of your file, you can run this notebook via `slurm` so there is no timing out:"
   ]
  },
  {
   "cell_type": "code",
   "execution_count": 6,
   "metadata": {
    "execution": {
     "iopub.execute_input": "2025-01-27T23:19:03.711602Z",
     "iopub.status.busy": "2025-01-27T23:19:03.711326Z",
     "iopub.status.idle": "2025-01-27T23:24:40.580471Z",
     "shell.execute_reply": "2025-01-27T23:24:40.579859Z"
    }
   },
   "outputs": [
    {
     "name": "stdout",
     "output_type": "stream",
     "text": [
      "Starting upload at 2025-01-27 16:19:03.712979\n",
      "Finished upload at 2025-01-27 16:24:40.577980\n"
     ]
    }
   ],
   "source": [
    "print(f\"Starting upload at {datetime.datetime.now()}\")\n",
    "\n",
    "with ftplib.FTP(ftp_address) as ftp:\n",
    "    ftp.login(user=ftp_username,\n",
    "              passwd=ftp_password,\n",
    "              )\n",
    "    ftp.cwd(ftp_account_folder)\n",
    "    ftp.mkd(ftp_subfolder)\n",
    "    ftp.cwd(ftp_subfolder)\n",
    "    with open(tar_filename, 'rb') as f:\n",
    "        ftp.storbinary(f\"STOR {tar_filename}\", f)\n",
    "        \n",
    "print(f\"Finished upload at {datetime.datetime.now()}\")"
   ]
  },
  {
   "cell_type": "code",
   "execution_count": null,
   "metadata": {},
   "outputs": [],
   "source": []
  }
 ],
 "metadata": {
  "kernelspec": {
   "display_name": "Python 3",
   "language": "python",
   "name": "python3"
  },
  "language_info": {
   "codemirror_mode": {
    "name": "ipython",
    "version": 3
   },
   "file_extension": ".py",
   "mimetype": "text/x-python",
   "name": "python",
   "nbconvert_exporter": "python",
   "pygments_lexer": "ipython3",
   "version": "3.8.15"
  }
 },
 "nbformat": 4,
 "nbformat_minor": 4
}
